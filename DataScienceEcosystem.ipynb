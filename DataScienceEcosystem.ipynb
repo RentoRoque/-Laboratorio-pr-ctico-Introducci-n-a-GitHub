{
 "cells": [
  {
   "cell_type": "markdown",
   "metadata": {},
   "source": [
    "<center>\n",
    "    <img src=\"https://cf-courses-data.s3.us.cloud-object-storage.appdomain.cloud/IBMDeveloperSkillsNetwork-DS0105EN-SkillsNetwork/labs/Module2/images/SN_web_lightmode.png\" width=\"300\" alt=\"cognitiveclass.ai logo\">\n",
    "</center>\n"
   ]
  },
  {
   "cell_type": "markdown",
   "metadata": {},
   "source": [
    "#### Add your code below following the instructions given in the course\n"
   ]
  },
  {
   "cell_type": "markdown",
   "metadata": {},
   "source": [
    "# Data Science Tools and Ecosystem"
   ]
  },
  {
   "cell_type": "code",
   "execution_count": 5,
   "metadata": {
    "scrolled": true
   },
   "outputs": [
    {
     "ename": "SyntaxError",
     "evalue": "invalid syntax (3874421210.py, line 1)",
     "output_type": "error",
     "traceback": [
      "\u001b[0;36m  Cell \u001b[0;32mIn[5], line 1\u001b[0;36m\u001b[0m\n\u001b[0;31m    **En este cuaderno, se resumen las herramientas y ecosistemas de ciencia de datos.**\u001b[0m\n\u001b[0m    ^\u001b[0m\n\u001b[0;31mSyntaxError\u001b[0m\u001b[0;31m:\u001b[0m invalid syntax\n"
     ]
    }
   ],
   "source": [
    "**En este cuaderno, se resumen las herramientas y ecosistemas de ciencia de datos.**"
   ]
  },
  {
   "cell_type": "code",
   "execution_count": 6,
   "metadata": {},
   "outputs": [
    {
     "ename": "SyntaxError",
     "evalue": "invalid syntax (3999828823.py, line 1)",
     "output_type": "error",
     "traceback": [
      "\u001b[0;36m  Cell \u001b[0;32mIn[6], line 1\u001b[0;36m\u001b[0m\n\u001b[0;31m    __Lenguajes de programación:__\u001b[0m\n\u001b[0m                ^\u001b[0m\n\u001b[0;31mSyntaxError\u001b[0m\u001b[0;31m:\u001b[0m invalid syntax\n"
     ]
    }
   ],
   "source": [
    "__Lenguajes de programación:__\n",
    "*Python\n",
    "-R\n",
    "+SQL"
   ]
  },
  {
   "cell_type": "code",
   "execution_count": null,
   "metadata": {},
   "outputs": [],
   "source": [
    "Algunos de los lenguajes populares que utilizan los científicos de datos son:"
   ]
  },
  {
   "cell_type": "markdown",
   "metadata": {},
   "source": [
    "1. Python\n",
    "2. SQL\n",
    "3. R"
   ]
  },
  {
   "cell_type": "code",
   "execution_count": null,
   "metadata": {},
   "outputs": [],
   "source": [
    "Algunas de las bibliotecas comúnmente utilizadas por los científicos de datos incluyen:"
   ]
  },
  {
   "cell_type": "code",
   "execution_count": null,
   "metadata": {},
   "outputs": [],
   "source": [
    "1. Pandas: Para manipulación y análisis de datos en Python.\n",
    "2. NumPy: Para cálculos numéricos y manejo de arreglos.\n",
    "3. Matplotlib y Seaborn: Para visualización de datos en gráficos y estadísticas.\n",
    "4. Scikit-learn: Para machine learning y modelado predictivo.\n",
    "5. TensorFlow y PyTorch: Para aprendizaje profundo (deep learning).\n",
    "6. ggplot2: Para visualización avanzada en R.\n",
    "7. dplyr y tidyr: Para manipulación de datos en R."
   ]
  },
  {
   "cell_type": "code",
   "execution_count": null,
   "metadata": {},
   "outputs": [],
   "source": [
    "Herramientas de Ciencia de Datos"
   ]
  },
  {
   "cell_type": "code",
   "execution_count": null,
   "metadata": {},
   "outputs": [],
   "source": [
    "|--------------|--------------|--------------|\n",
    "| RStudio      | Tableau      | Power BI     |\n",
    "|--------------|--------------|--------------|"
   ]
  },
  {
   "cell_type": "code",
   "execution_count": null,
   "metadata": {},
   "outputs": [],
   "source": [
    "### A continuación, se presentan algunos ejemplos de evaluación de expresiones aritméticas en Python"
   ]
  },
  {
   "cell_type": "code",
   "execution_count": null,
   "metadata": {},
   "outputs": [],
   "source": [
    "# Suma\n",
    "print(5 + 3)  # Resultado: 8\n",
    "\n",
    "# Resta\n",
    "print(10 - 4)  # Resultado: 6\n",
    "\n",
    "# Multiplicación\n",
    "print(7 * 2)  # Resultado: 14\n",
    "\n",
    "# División\n",
    "print(15 / 3)  # Resultado: 5.0\n",
    "\n",
    "# División entera\n",
    "print(15 // 4)  # Resultado: 3\n",
    "\n",
    "# Módulo (resto de la división)\n",
    "print(15 % 4)  # Resultado: 3\n",
    "\n",
    "# Potenciación\n",
    "print(2 ** 3)  # Resultado: 8"
   ]
  },
  {
   "cell_type": "code",
   "execution_count": null,
   "metadata": {},
   "outputs": [],
   "source": [
    "Esta es una expresión aritmética simple para multiplicar y luego sumar enteros"
   ]
  },
  {
   "cell_type": "code",
   "execution_count": 2,
   "metadata": {},
   "outputs": [
    {
     "data": {
      "text/plain": [
       "17"
      ]
     },
     "execution_count": 2,
     "metadata": {},
     "output_type": "execute_result"
    }
   ],
   "source": [
    "(3*4)+5"
   ]
  },
  {
   "cell_type": "code",
   "execution_count": null,
   "metadata": {},
   "outputs": [],
   "source": [
    "Esto convertirá 200 minutos a horas dividiendo por 60"
   ]
  },
  {
   "cell_type": "code",
   "execution_count": 3,
   "metadata": {},
   "outputs": [
    {
     "name": "stdout",
     "output_type": "stream",
     "text": [
      "3.3333333333333335\n"
     ]
    }
   ],
   "source": [
    "# Convertir 200 minutos a horas\n",
    "horas = 200 / 60\n",
    "print(horas)"
   ]
  },
  {
   "cell_type": "code",
   "execution_count": null,
   "metadata": {},
   "outputs": [],
   "source": [
    "## Autor\n",
    "Renato Roque Quispe"
   ]
  }
 ],
 "metadata": {
  "kernelspec": {
   "display_name": "Python 3 (ipykernel)",
   "language": "python",
   "name": "python3"
  },
  "language_info": {
   "codemirror_mode": {
    "name": "ipython",
    "version": 3
   },
   "file_extension": ".py",
   "mimetype": "text/x-python",
   "name": "python",
   "nbconvert_exporter": "python",
   "pygments_lexer": "ipython3",
   "version": "3.12.8"
  }
 },
 "nbformat": 4,
 "nbformat_minor": 4
}
